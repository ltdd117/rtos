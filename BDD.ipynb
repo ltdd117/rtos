{
 "cells": [
  {
   "cell_type": "code",
   "execution_count": null,
   "metadata": {},
   "outputs": [],
   "source": [
    "#BDD"
   ]
  },
  {
   "cell_type": "code",
   "execution_count": 1,
   "metadata": {},
   "outputs": [
    {
     "name": "stdout",
     "output_type": "stream",
     "text": [
      "San_Pham: Tai Nghe Nhét Tai Apple Airpods Wireless  MMEF2ZA/A - Hàng Chính Hãng - Price: 4190000\n",
      "San_Pham: Đồng Hồ Thông Minh Apple Watch Series 4 GPS Aluminum Case With Sport Loop VN/A - Hàng Chính Hãng - Price: 10690000\n",
      "San_Pham: Vòng Đeo Tay Thông Minh Theo Dõi Vận Động Xiaomi Mi Band 3 - Hàng Chính Hãng - Price: 649000\n",
      "San_Pham: Thẻ Nhớ Micro SD Samsung Evo Plus U1 32GB Class 10 - 95MB/s (Kèm Adapter) - Hàng Chính Hãng - Price: 114000\n",
      "San_Pham: Chuột Không Dây Logitech B175 - Hàng Chính Hãng - Price: 158000\n",
      "San_Pham: Chuột Chơi Game Có Dây Logitech G102 8000DPI RGB 6 Phím - Hàng Chính Hãng - Price: 375000\n",
      "San_Pham: Tai nghe nhét tai cổng 3.5mm cho IPhone, IPad - Price: 17799\n",
      "San_Pham: Chuột Có Dây Logitech B100 - Hàng Chính Hãng - Price: 60000\n",
      "San_Pham: Thẻ Nhớ Micro SD Samsung Evo Plus 32GB Class 10 - 95MB/s (Kèm Adapter) - Hàng Nhập Khẩu - Price: 111000\n",
      "San_Pham: Cáp chuyển đổi HDMI sang VGA (20cm) - Price: 55473\n",
      "San_Pham: Thẻ Nhớ Micro SD Kingston 8GB SDHC Class 4 Kèm Adapter - Hàng Chính Hãng - Price: 49000\n",
      "San_Pham: Thiết Bị Chuyển Đổi Âm Thanh Có Dây Thành Không Dây VietTech Bluetooth Music V4.1 (Đen) - Hàng Nhập Khẩu - Price: 78000\n",
      "San_Pham: Chuột Không Dây Logitech M331 Silent - Hàng Chính Hãng - Price: 275000\n",
      "San_Pham: Pin Sạc Dự Phòng Xiaomi Gen 2S Version 2018 10000 mAh 2 Cổng USB Hỗ Trợ QC 3.0 PLM09ZM - Hàng Chính Hãng - Price: 279000\n",
      "San_Pham: Vòng Đeo Tay Thông Minh Xiaomi Mi Band 2 (Đen) - Hàng Chính Hãng - Price: 399000\n",
      "San_Pham: Miếng Lót Chuột (30 x 23.5 cm) - Price: 20997\n",
      "San_Pham: Loa Bluetooth LG XBOOM Go PK3 16W - Hàng Chính Hãng - Price: 699000\n",
      "San_Pham: Tai nghe bluetooth 4.2 MagnerS6  - Price: 48999\n",
      "San_Pham: Bộ vệ sinh laptop  - Price: 17846\n",
      "San_Pham: Tai Nghe Bluetooth I7s Bản Nâng Cấp - Price: 170000\n",
      "San_Pham: Hộp Đựng Tai Nghe / Cáp Sạc / Pin Sạc Dự Phòng / Ổ Cứng ORICO PHL-25 - Hàng Chính Hãng - Price: 65000\n",
      "San_Pham: SIM 4G Viettel V90 Tặng 62GB/Tháng miễn phí nghe gọi - Price: 60000\n",
      "San_Pham: Sim V90 Viettel Tốc Độ Cao 4G - Price: 60000\n",
      "San_Pham: Tai Nghe Nhét Tai Mi Basic Xiaomi HSEJ03JY - Hàng Chính Hãng - Price: 109000\n",
      "San_Pham: Tai nghe Bluetooth cổng Lightning cho IPhone, IPad - Price: 84965\n",
      "San_Pham: Thẻ Nhớ microSDXC SanDisk Ultra 64GB UHS-I - 80MB/s  - Price: 201000\n",
      "San_Pham: Bộ 2 Nút Bấm Chơi Game Pubg Thế Hệ 3 - Price: 39000\n",
      "San_Pham: Pin Sạc Dự Phòng Xiaomi 10000mAh Gen 2 - Đen - Price: 349000\n",
      "San_Pham: Hộp Đựng Tai Nghe Chống Sốc Ugreen - 40816 - Hàng Chính Hãng - Price: 59000\n",
      "San_Pham: Chuột Chơi Game Không Dây Azzor Eagle 2400DPI 6 Phím - Hàng Nhập Khẩu - Price: 117000\n",
      "San_Pham: Tay Cầm Chơi Game Dualshock 4 CUH-ZCT2G - Hàng Chính Hãng - Price: 930000\n",
      "San_Pham: Tai nghe Samsung AKG theo máy Note 9 - Hàng chính hãng (tặng bộ núm) - Price: 130000\n",
      "San_Pham: Chuột Không Dây Logitech M221 - Hàng Chính Hãng - Price: 241000\n",
      "San_Pham: Thẻ Nhớ Micro SDXC Samsung Evo Plus 64GB Class 10 - 100MB/s (Kèm Adapter) - Hàng Nhập Khẩu - Price: 255000\n",
      "San_Pham: Cáp Sạc Lightning Pisen 1000mm - Price: 40800\n",
      "San_Pham: Hộp Bảo Vệ Silicone Cho Airpods Ugreen - 50867 - Hàng Chính Hãng - Price: 92150\n",
      "San_Pham: Tai Nghe Nhét Tai Hoco M1 - Hàng Nhập Khẩu - Price: 36000\n",
      "San_Pham: Thẻ Nhớ Micro SDHC SanDisk UHS-1 32GB Class 10 - 80MB/s - Hàng Chính Hãng - Price: 103000\n",
      "San_Pham: SIM 4G Mobifone MDT250A Trọn Gói 1 Năm Không Cần Nạp Tiền - Price: 154000\n",
      "San_Pham: Pin Sạc Dự Phòng Tích Hợp Sạc Không Dây Energizer Thần Sấm QE10000CQ 10.000 mAh QC 3.0 Type-C PD - Hàng Chính Hãng - Price: 699000\n",
      "San_Pham: Chuột Có Dây Dell MS116 (Đen) - Hàng Chính Hãng - Price: 89000\n",
      "San_Pham: Ốp Lưng Dẻo Chống Sốc Phát Sáng Cho iPhone 7 Plus (Trong Suốt) - Price: 28000\n",
      "San_Pham: Tai Nghe Nhét Tai BYZ S389 - Hàng Chính Hãng - Price: 44600\n",
      "San_Pham: Túi Chống Nước Cho Điện Thoại Anker - A7095011 (Đen) - Hàng Chính Hãng - Price: 150000\n",
      "San_Pham: Tai Nghe Nhét Tai Apple Airpods Wireless - Hàng Nhập Khẩu - Price: 4140000\n",
      "San_Pham: Tai Nghe Bluetooth Nhét Tai Kèm Mic - Price: 43997\n",
      "San_Pham: Loa Bluetooth P88/P89 (Tặng Kèm Mic) - Giao màu ngẫu nhiên - Price: 245500\n"
     ]
    }
   ],
   "source": [
    "from bs4 import BeautifulSoup\n",
    "import urllib.request\n",
    "import csv\n",
    "\n",
    "url =  'https://tiki.vn/thiet-bi-kts-phu-kien-so/c1815?src=mega-menu'\n",
    "page = urllib.request.urlopen(url)\n",
    "soup = BeautifulSoup(page, 'html.parser')\n",
    "\n",
    "data = []\n",
    "objs = soup.find_all('div', class_ = 'product-item')\n",
    "\n",
    "with open('data.txt', 'a') as csvFile:\n",
    "    writer = csv.writer(csvFile)\n",
    "    writer.writerow(['San_Pham', 'Price'])\n",
    "    csvFile.close()\n",
    "for element in objs:\n",
    "    price = element.get('data-price')\n",
    "    name = element.get('data-title')\n",
    "    print('San_Pham: {} - Price: {}'.format(name, price))\n",
    "    product_link = element.find('a')"
   ]
  },
  {
   "cell_type": "code",
   "execution_count": null,
   "metadata": {},
   "outputs": [],
   "source": []
  }
 ],
 "metadata": {
  "kernelspec": {
   "display_name": "Python 3",
   "language": "python",
   "name": "python3"
  },
  "language_info": {
   "codemirror_mode": {
    "name": "ipython",
    "version": 3
   },
   "file_extension": ".py",
   "mimetype": "text/x-python",
   "name": "python",
   "nbconvert_exporter": "python",
   "pygments_lexer": "ipython3",
   "version": "3.7.1"
  }
 },
 "nbformat": 4,
 "nbformat_minor": 2
}
